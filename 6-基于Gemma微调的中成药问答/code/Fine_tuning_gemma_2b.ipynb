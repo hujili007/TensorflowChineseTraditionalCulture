{
  "cells": [
    {
      "cell_type": "markdown",
      "metadata": {
        "id": "gB5ZU88iR8jV"
      },
      "source": [
        "1、下载gemma-2b模型"
      ]
    },
    {
      "cell_type": "code",
      "execution_count": null,
      "metadata": {
        "id": "1NuansiHRv-4"
      },
      "outputs": [],
      "source": [
        "git clone https://www.modelscope.cn/AI-ModelScope/gemma-2b.git"
      ]
    },
    {
      "cell_type": "markdown",
      "metadata": {
        "id": "rMe42igKSMXa"
      },
      "source": [
        "2、下载LLaMA-Factory,LLaMA-Factory 是⼀个⽤于⾼效微调⼤型语⾔模型（LLMs）的统⼀框架。它集成了多种先进的训练⽅法，并允许⽤户通过内置的⽹⻚界⾯\n",
        "LlamaBoard 灵活地⾃定义100多种LLMs的微调，⽆需编写代码。这个框架在语⾔建模和⽂本⽣成任务上已经得到了实证验证，有效性和效率都得到了\n",
        "证实。\n",
        "\n"
      ]
    },
    {
      "cell_type": "code",
      "execution_count": null,
      "metadata": {
        "id": "TbAljIe8SCzb"
      },
      "outputs": [],
      "source": [
        "git clone https://github.com/hiyouga/LLaMA-Factory.git"
      ]
    },
    {
      "cell_type": "markdown",
      "metadata": {
        "id": "-EOV4YM-S3jY"
      },
      "source": [
        "3、创建conda 虚拟环境"
      ]
    },
    {
      "cell_type": "code",
      "execution_count": null,
      "metadata": {
        "id": "ivCrPWoxSii0"
      },
      "outputs": [],
      "source": [
        "conda create -n llama_factory_new python=3.10\n",
        "conda activate llama_factory_new\n",
        "cd LLaMA-Factory\n",
        "pip install -e .[metrics] -i https://pypi.tuna.tsinghua.edu.cn/simple"
      ]
    },
    {
      "cell_type": "markdown",
      "metadata": {
        "id": "bCfR4tG7TfSs"
      },
      "source": [
        "4、设置GPU和Gradio端口。"
      ]
    },
    {
      "cell_type": "code",
      "execution_count": null,
      "metadata": {
        "id": "sIJWOEe6TFyW"
      },
      "outputs": [],
      "source": [
        "export CUDA_VISIBLE_DEVICES=0\n",
        "export GRADIO_SERVER_PORT=7860"
      ]
    },
    {
      "cell_type": "markdown",
      "metadata": {
        "id": "Q5wHi3W6TrNz"
      },
      "source": [
        "5、下载微调数据集：https://github.com/liucann/CPMI-ChatGLM/blob/main/data/cpmi_dataset.json。接着放到/LLaMA-Factory/finetune-gemma （finetune-gemma为⾃⼰新建的⽂件夹），然后编写代码处理json文件，⽣成后的itnews_data.json⽂件内容如下：⼀条instruction指令对应⼀个output，output就是根据instruction⾥的内容⽣成的标题，将itnews_data.json⽂件复制到LLaMA-Factory的data⽬录下"
      ]
    },
    {
      "cell_type": "code",
      "execution_count": null,
      "metadata": {},
      "outputs": [],
      "source": []
    },
    {
      "cell_type": "code",
      "execution_count": null,
      "metadata": {},
      "outputs": [],
      "source": [
        "import json\n",
        "import os\n",
        "\n",
        "def check_and_fix_json(input_file, output_dir):\n",
        "    \"\"\"\n",
        "    检查并修复JSON文件中的格式错误，并将修复后的文件保存到指定目录。\n",
        "    \n",
        "    参数:\n",
        "        input_file (str): 输入JSON文件的路径。\n",
        "        output_dir (str): 修复后文件的输出目录。\n",
        "    \"\"\"\n",
        "    # 读取并检查JSON文件\n",
        "    try:\n",
        "        with open(input_file, 'r', encoding='utf-8') as file:\n",
        "            data = json.load(file)  # 尝试加载 JSON 数据\n",
        "        print(\"文件格式正常，无需修复。\")\n",
        "    except json.JSONDecodeError as e:\n",
        "        print(f\"检测到格式错误: {e}\")\n",
        "        print(\"尝试修复文件格式...\")\n",
        "        \n",
        "        # 修复 JSON 格式\n",
        "        with open(input_file, 'r', encoding='utf-8') as file:\n",
        "            content = file.read()\n",
        "            try:\n",
        "                # 尝试修复常见的 JSON 问题\n",
        "                content = content.replace(\"'\", \"\\\"\")  # 修复引号错误\n",
        "                data = json.loads(content)\n",
        "                print(\"文件已成功修复。\")\n",
        "            except json.JSONDecodeError as e:\n",
        "                print(f\"修复失败: {e}\")\n",
        "                return\n",
        "    \n",
        "    # 检查输出目录是否存在\n",
        "    if not os.path.exists(output_dir):\n",
        "        os.makedirs(output_dir)\n",
        "    \n",
        "    # 输出修复后的文件名为 itnews_data.json\n",
        "    output_file = os.path.join(output_dir, \"itnews_data.json\")\n",
        "    with open(output_file, 'w', encoding='utf-8') as file:\n",
        "        json.dump(data, file, ensure_ascii=False, indent=4)\n",
        "    print(f\"修复后的文件已保存到: {output_file}\")\n",
        "\n",
        "# 使用示例\n",
        "input_file = \"/home/wangziyang/A/LLaMA-Factory/finetune-gemma/cpmi_dataset.json\"  # 输入文件路径\n",
        "output_dir = \"/home/wangziyang/A/LLaMA-Factory/finetune-gemma\"       # 指定输出目录\n",
        "check_and_fix_json(input_file, output_dir)\n"
      ]
    },
    {
      "cell_type": "markdown",
      "metadata": {
        "id": "VYE9uUtnXnD2"
      },
      "source": [
        "6、修改dataset_info.json\n",
        "添加如下数据库说明：\"itnews\": {\n",
        "\"file_name\": \"itnews_data.json\",\n",
        "\"file_sha1\": \"\"\n",
        "},"
      ]
    },
    {
      "cell_type": "markdown",
      "metadata": {
        "id": "ImxzH2zwX5Y1"
      },
      "source": [
        "7、启动可视化微调界⾯"
      ]
    },
    {
      "cell_type": "code",
      "execution_count": null,
      "metadata": {
        "id": "gvGIrvBmYkUc"
      },
      "outputs": [],
      "source": [
        "python src/train_web.py"
      ]
    },
    {
      "cell_type": "markdown",
      "metadata": {
        "id": "ONw3Te7AXsIA"
      },
      "source": [
        "8、在浏览器界⾯设置模型路径、数据集选择itnews、截断⻓度保持默认，并开始微调"
      ]
    }
  ],
  "metadata": {
    "colab": {
      "provenance": []
    },
    "kernelspec": {
      "display_name": "Python 3",
      "name": "python3"
    },
    "language_info": {
      "name": "python"
    }
  },
  "nbformat": 4,
  "nbformat_minor": 0
}
